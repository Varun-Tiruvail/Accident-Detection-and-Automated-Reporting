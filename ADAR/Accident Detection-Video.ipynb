{
 "cells": [
  {
   "cell_type": "code",
   "execution_count": null,
   "id": "1477b504",
   "metadata": {},
   "outputs": [],
   "source": [
    "import os\n",
    "import cv2     # for capturing videos\n",
    "import math \n",
    "import geocoder\n",
    "import requests\n",
    "%matplotlib inline\n",
    "import pandas as pd\n",
    "from twilio.rest import Client\n",
    "from geopy.geocoders import Nominatim\n",
    "from keras.preprocessing import image   # for preprocessing the images\n",
    "import numpy as np    # for mathematical operations\n",
    "from keras.utils import np_utils\n",
    "from matplotlib import pyplot as plt \n",
    "from skimage.transform import resize   # for resizing images"
   ]
  },
  {
   "cell_type": "code",
   "execution_count": 2,
   "id": "c9d50c3c",
   "metadata": {},
   "outputs": [
    {
     "name": "stdout",
     "output_type": "stream",
     "text": [
      "Done!\n"
     ]
    }
   ],
   "source": [
    "count = 0\n",
    "videoFile = \"Accidents.mp4\"\n",
    "cap = cv2.VideoCapture(videoFile)   # capturing the video from the given path\n",
    "frameRate = cap.get(5) #frame rate\n",
    "x=1\n",
    "while(cap.isOpened()):\n",
    "    frameId = cap.get(1) #current frame number\n",
    "    ret, frame = cap.read()\n",
    "    if (ret != True):\n",
    "        break\n",
    "    if (frameId % math.floor(frameRate) == 0):\n",
    "        filename =\"%d.jpg\" % count;count+=1\n",
    "        cv2.imwrite(filename, frame)\n",
    "cap.release()\n",
    "print (\"Done!\")"
   ]
  },
  {
   "cell_type": "code",
   "execution_count": 9,
   "id": "ed1ec509",
   "metadata": {},
   "outputs": [
    {
     "data": {
      "text/plain": [
       "<matplotlib.image.AxesImage at 0x2a6bc5a7a60>"
      ]
     },
     "execution_count": 9,
     "metadata": {},
     "output_type": "execute_result"
    },
    {
     "data": {
      "image/png": "[encoded data removed]",
      "text/plain": [
       "<Figure size 432x288 with 1 Axes>"
      ]
     },
     "metadata": {
      "needs_background": "light"
     },
     "output_type": "display_data"
    }
   ],
   "source": [
    "img = plt.imread('0.jpg')   # reading image using its name\n",
    "plt.imshow(img)"
   ]
  },
  {
   "cell_type": "code",
   "execution_count": 10,
   "id": "9da41986",
   "metadata": {},
   "outputs": [
    {
     "data": {
      "text/html": [
       "<div>\n",
       "<style scoped>\n",
       "    .dataframe tbody tr th:only-of-type {\n",
       "        vertical-align: middle;\n",
       "    }\n",
       "\n",
       "    .dataframe tbody tr th {\n",
       "        vertical-align: top;\n",
       "    }\n",
       "\n",
       "    .dataframe thead th {\n",
       "        text-align: right;\n",
       "    }\n",
       "</style>\n",
       "<table border=\"1\" class=\"dataframe\">\n",
       "  <thead>\n",
       "    <tr style=\"text-align: right;\">\n",
       "      <th></th>\n",
       "      <th>Image_ID</th>\n",
       "      <th>Class</th>\n",
       "    </tr>\n",
       "  </thead>\n",
       "  <tbody>\n",
       "    <tr>\n",
       "      <th>0</th>\n",
       "      <td>0.jpg</td>\n",
       "      <td>1</td>\n",
       "    </tr>\n",
       "    <tr>\n",
       "      <th>1</th>\n",
       "      <td>1.jpg</td>\n",
       "      <td>1</td>\n",
       "    </tr>\n",
       "    <tr>\n",
       "      <th>2</th>\n",
       "      <td>2.jpg</td>\n",
       "      <td>1</td>\n",
       "    </tr>\n",
       "    <tr>\n",
       "      <th>3</th>\n",
       "      <td>3.jpg</td>\n",
       "      <td>1</td>\n",
       "    </tr>\n",
       "    <tr>\n",
       "      <th>4</th>\n",
       "      <td>4.jpg</td>\n",
       "      <td>1</td>\n",
       "    </tr>\n",
       "  </tbody>\n",
       "</table>\n",
       "</div>"
      ],
      "text/plain": [
       "  Image_ID  Class\n",
       "0    0.jpg      1\n",
       "1    1.jpg      1\n",
       "2    2.jpg      1\n",
       "3    3.jpg      1\n",
       "4    4.jpg      1"
      ]
     },
     "execution_count": 10,
     "metadata": {},
     "output_type": "execute_result"
    }
   ],
   "source": [
    "data = pd.read_csv('mapping.csv')     # reading the csv file\n",
    "data.head()"
   ]
  },
  {
   "cell_type": "code",
   "execution_count": 11,
   "id": "39a7f413",
   "metadata": {},
   "outputs": [],
   "source": [
    "X = [ ]     # creating an empty array\n",
    "for img_name in data.Image_ID:\n",
    "    img = plt.imread('' + img_name)\n",
    "    X.append(img)  # storing each image in array X\n",
    "X = np.array(X)    # converting list to array"
   ]
  },
  {
   "cell_type": "code",
   "execution_count": 12,
   "id": "e8119c04",
   "metadata": {},
   "outputs": [],
   "source": [
    "y = data.Class\n",
    "dummy_y = np_utils.to_categorical(y)"
   ]
  },
  {
   "cell_type": "code",
   "execution_count": 13,
   "id": "0f7cf107",
   "metadata": {},
   "outputs": [],
   "source": [
    "image = []\n",
    "for i in range(0,X.shape[0]):\n",
    "    a = resize(X[i], preserve_range=True, output_shape=(224,224)).astype(int)      # reshaping to 224*224*3\n",
    "    image.append(a)\n",
    "X = np.array(image)"
   ]
  },
  {
   "cell_type": "code",
   "execution_count": 14,
   "id": "2555ab63",
   "metadata": {},
   "outputs": [],
   "source": [
    "from keras.applications.vgg16 import preprocess_input\n",
    "X = preprocess_input(X,data_format=None)"
   ]
  },
  {
   "cell_type": "code",
   "execution_count": 15,
   "id": "21006e54",
   "metadata": {},
   "outputs": [],
   "source": [
    "from sklearn.model_selection import train_test_split\n",
    "X_train, X_valid, y_train, y_valid = train_test_split(X, dummy_y, test_size=0.3, random_state=42)"
   ]
  },
  {
   "cell_type": "code",
   "execution_count": 16,
   "id": "af20a283",
   "metadata": {},
   "outputs": [],
   "source": [
    "from keras.models import Sequential\n",
    "from keras.applications.vgg16 import VGG16\n",
    "from keras.layers import Dense, InputLayer, Dropout"
   ]
  },
  {
   "cell_type": "code",
   "execution_count": 17,
   "id": "47d94402",
   "metadata": {},
   "outputs": [],
   "source": [
    "base_model = VGG16(weights='imagenet', include_top=False, input_shape=(224, 224, 3)) "
   ]
  },
  {
   "cell_type": "code",
   "execution_count": 18,
   "id": "fb02ec43",
   "metadata": {},
   "outputs": [
    {
     "name": "stdout",
     "output_type": "stream",
     "text": [
      "5/5 [==============================] - 14s 3s/step\n",
      "3/3 [==============================] - 6s 2s/step\n"
     ]
    },
    {
     "data": {
      "text/plain": [
       "((155, 7, 7, 512), (67, 7, 7, 512))"
      ]
     },
     "execution_count": 18,
     "metadata": {},
     "output_type": "execute_result"
    }
   ],
   "source": [
    "X_train = base_model.predict(X_train)\n",
    "X_valid = base_model.predict(X_valid)\n",
    "X_train.shape, X_valid.shape"
   ]
  },
  {
   "cell_type": "code",
   "execution_count": 19,
   "id": "555111d7",
   "metadata": {},
   "outputs": [],
   "source": [
    "X_train = X_train.reshape(155, 7*7*512)      # converting to 1-D\n",
    "X_valid = X_valid.reshape(67, 7*7*512)"
   ]
  },
  {
   "cell_type": "code",
   "execution_count": 20,
   "id": "5a5a6732",
   "metadata": {},
   "outputs": [],
   "source": [
    "train = X_train/X_train.max()      # centering the data\n",
    "X_valid = X_valid/X_train.max()"
   ]
  },
  {
   "cell_type": "code",
   "execution_count": 21,
   "id": "57001716",
   "metadata": {},
   "outputs": [],
   "source": [
    "model = Sequential()\n",
    "model.add(InputLayer((7*7*512,)))    # input layer\n",
    "model.add(Dense(units=1024, activation='sigmoid')) # hidden layer\n",
    "model.add(Dense(2, activation='softmax'))    # output layer"
   ]
  },
  {
   "cell_type": "code",
   "execution_count": 22,
   "id": "586cff45",
   "metadata": {},
   "outputs": [
    {
     "name": "stdout",
     "output_type": "stream",
     "text": [
      "Model: \"sequential\"\n",
      "_________________________________________________________________\n",
      " Layer (type)                Output Shape              Param #   \n",
      "=================================================================\n",
      " dense (Dense)               (None, 1024)              25691136  \n",
      "                                                                 \n",
      " dense_1 (Dense)             (None, 2)                 2050      \n",
      "                                                                 \n",
      "=================================================================\n",
      "Total params: 25,693,186\n",
      "Trainable params: 25,693,186\n",
      "Non-trainable params: 0\n",
      "_________________________________________________________________\n"
     ]
    }
   ],
   "source": [
    "model.summary()"
   ]
  },
  {
   "cell_type": "code",
   "execution_count": 23,
   "id": "e36420f6",
   "metadata": {},
   "outputs": [],
   "source": [
    "model.compile(loss='categorical_crossentropy', optimizer='adam', metrics=['accuracy'])"
   ]
  },
  {
   "cell_type": "code",
   "execution_count": 24,
   "id": "20e00a1e",
   "metadata": {
    "scrolled": true
   },
   "outputs": [
    {
     "name": "stdout",
     "output_type": "stream",
     "text": [
      "Epoch 1/100\n",
      "5/5 [==============================] - 3s 563ms/step - loss: 0.8466 - accuracy: 0.5484 - val_loss: 0.9513 - val_accuracy: 0.5821\n",
      "Epoch 2/100\n",
      "5/5 [==============================] - 2s 403ms/step - loss: 0.5146 - accuracy: 0.7806 - val_loss: 0.8285 - val_accuracy: 0.7313\n",
      "Epoch 3/100\n",
      "5/5 [==============================] - 2s 430ms/step - loss: 0.2533 - accuracy: 0.9097 - val_loss: 0.8330 - val_accuracy: 0.7313\n",
      "Epoch 4/100\n",
      "5/5 [==============================] - 2s 455ms/step - loss: 0.1229 - accuracy: 0.9871 - val_loss: 0.8097 - val_accuracy: 0.7164\n",
      "Epoch 5/100\n",
      "5/5 [==============================] - 2s 429ms/step - loss: 0.1076 - accuracy: 0.9742 - val_loss: 0.8173 - val_accuracy: 0.7313\n",
      "Epoch 6/100\n",
      "5/5 [==============================] - 2s 425ms/step - loss: 0.0721 - accuracy: 1.0000 - val_loss: 0.8278 - val_accuracy: 0.7612\n",
      "Epoch 7/100\n",
      "5/5 [==============================] - 2s 431ms/step - loss: 0.0544 - accuracy: 0.9871 - val_loss: 0.8289 - val_accuracy: 0.7463\n",
      "Epoch 8/100\n",
      "5/5 [==============================] - 2s 416ms/step - loss: 0.0389 - accuracy: 0.9935 - val_loss: 0.8208 - val_accuracy: 0.7612\n",
      "Epoch 9/100\n",
      "5/5 [==============================] - 2s 424ms/step - loss: 0.0327 - accuracy: 1.0000 - val_loss: 0.7799 - val_accuracy: 0.7910\n",
      "Epoch 10/100\n",
      "5/5 [==============================] - 2s 423ms/step - loss: 0.0241 - accuracy: 1.0000 - val_loss: 0.7648 - val_accuracy: 0.7910\n",
      "Epoch 11/100\n",
      "5/5 [==============================] - 2s 402ms/step - loss: 0.0221 - accuracy: 1.0000 - val_loss: 0.7680 - val_accuracy: 0.7761\n",
      "Epoch 12/100\n",
      "5/5 [==============================] - 2s 410ms/step - loss: 0.0191 - accuracy: 1.0000 - val_loss: 0.7747 - val_accuracy: 0.7910\n",
      "Epoch 13/100\n",
      "5/5 [==============================] - 2s 412ms/step - loss: 0.0162 - accuracy: 1.0000 - val_loss: 0.7898 - val_accuracy: 0.7761\n",
      "Epoch 14/100\n",
      "5/5 [==============================] - 2s 435ms/step - loss: 0.0149 - accuracy: 1.0000 - val_loss: 0.7994 - val_accuracy: 0.7761\n",
      "Epoch 15/100\n",
      "5/5 [==============================] - 2s 393ms/step - loss: 0.0134 - accuracy: 1.0000 - val_loss: 0.7962 - val_accuracy: 0.7761\n",
      "Epoch 16/100\n",
      "5/5 [==============================] - 2s 383ms/step - loss: 0.0125 - accuracy: 1.0000 - val_loss: 0.7921 - val_accuracy: 0.7910\n",
      "Epoch 17/100\n",
      "5/5 [==============================] - 2s 388ms/step - loss: 0.0115 - accuracy: 1.0000 - val_loss: 0.7891 - val_accuracy: 0.7910\n",
      "Epoch 18/100\n",
      "5/5 [==============================] - 2s 445ms/step - loss: 0.0105 - accuracy: 1.0000 - val_loss: 0.7908 - val_accuracy: 0.7910\n",
      "Epoch 19/100\n",
      "5/5 [==============================] - 2s 413ms/step - loss: 0.0097 - accuracy: 1.0000 - val_loss: 0.7938 - val_accuracy: 0.7761\n",
      "Epoch 20/100\n",
      "5/5 [==============================] - 2s 405ms/step - loss: 0.0091 - accuracy: 1.0000 - val_loss: 0.8015 - val_accuracy: 0.7761\n",
      "Epoch 21/100\n",
      "5/5 [==============================] - 2s 431ms/step - loss: 0.0085 - accuracy: 1.0000 - val_loss: 0.8068 - val_accuracy: 0.7761\n",
      "Epoch 22/100\n",
      "5/5 [==============================] - 2s 445ms/step - loss: 0.0080 - accuracy: 1.0000 - val_loss: 0.8105 - val_accuracy: 0.7761\n",
      "Epoch 23/100\n",
      "5/5 [==============================] - 2s 441ms/step - loss: 0.0075 - accuracy: 1.0000 - val_loss: 0.8126 - val_accuracy: 0.7761\n",
      "Epoch 24/100\n",
      "5/5 [==============================] - 2s 442ms/step - loss: 0.0071 - accuracy: 1.0000 - val_loss: 0.8131 - val_accuracy: 0.7910\n",
      "Epoch 25/100\n",
      "5/5 [==============================] - 2s 474ms/step - loss: 0.0067 - accuracy: 1.0000 - val_loss: 0.8128 - val_accuracy: 0.7910\n",
      "Epoch 26/100\n",
      "5/5 [==============================] - 2s 451ms/step - loss: 0.0064 - accuracy: 1.0000 - val_loss: 0.8127 - val_accuracy: 0.7910\n",
      "Epoch 27/100\n",
      "5/5 [==============================] - 2s 411ms/step - loss: 0.0060 - accuracy: 1.0000 - val_loss: 0.8148 - val_accuracy: 0.8060\n",
      "Epoch 28/100\n",
      "5/5 [==============================] - 2s 419ms/step - loss: 0.0058 - accuracy: 1.0000 - val_loss: 0.8161 - val_accuracy: 0.7910\n",
      "Epoch 29/100\n",
      "5/5 [==============================] - 2s 427ms/step - loss: 0.0055 - accuracy: 1.0000 - val_loss: 0.8179 - val_accuracy: 0.8060\n",
      "Epoch 30/100\n",
      "5/5 [==============================] - 2s 439ms/step - loss: 0.0052 - accuracy: 1.0000 - val_loss: 0.8207 - val_accuracy: 0.8060\n",
      "Epoch 31/100\n",
      "5/5 [==============================] - 2s 405ms/step - loss: 0.0050 - accuracy: 1.0000 - val_loss: 0.8241 - val_accuracy: 0.8060\n",
      "Epoch 32/100\n",
      "5/5 [==============================] - 2s 410ms/step - loss: 0.0047 - accuracy: 1.0000 - val_loss: 0.8268 - val_accuracy: 0.8060\n",
      "Epoch 33/100\n",
      "5/5 [==============================] - 2s 408ms/step - loss: 0.0045 - accuracy: 1.0000 - val_loss: 0.8286 - val_accuracy: 0.8060\n",
      "Epoch 34/100\n",
      "5/5 [==============================] - 2s 425ms/step - loss: 0.0043 - accuracy: 1.0000 - val_loss: 0.8320 - val_accuracy: 0.8060\n",
      "Epoch 35/100\n",
      "5/5 [==============================] - 2s 412ms/step - loss: 0.0042 - accuracy: 1.0000 - val_loss: 0.8344 - val_accuracy: 0.8060\n",
      "Epoch 36/100\n",
      "5/5 [==============================] - 2s 416ms/step - loss: 0.0040 - accuracy: 1.0000 - val_loss: 0.8373 - val_accuracy: 0.8060\n",
      "Epoch 37/100\n",
      "5/5 [==============================] - 2s 430ms/step - loss: 0.0038 - accuracy: 1.0000 - val_loss: 0.8367 - val_accuracy: 0.8060\n",
      "Epoch 38/100\n",
      "5/5 [==============================] - 2s 412ms/step - loss: 0.0037 - accuracy: 1.0000 - val_loss: 0.8383 - val_accuracy: 0.8060\n",
      "Epoch 39/100\n",
      "5/5 [==============================] - 2s 402ms/step - loss: 0.0035 - accuracy: 1.0000 - val_loss: 0.8388 - val_accuracy: 0.8060\n",
      "Epoch 40/100\n",
      "5/5 [==============================] - 2s 409ms/step - loss: 0.0034 - accuracy: 1.0000 - val_loss: 0.8412 - val_accuracy: 0.8060\n",
      "Epoch 41/100\n",
      "5/5 [==============================] - 2s 409ms/step - loss: 0.0033 - accuracy: 1.0000 - val_loss: 0.8429 - val_accuracy: 0.8060\n",
      "Epoch 42/100\n",
      "5/5 [==============================] - 2s 419ms/step - loss: 0.0032 - accuracy: 1.0000 - val_loss: 0.8447 - val_accuracy: 0.8060\n",
      "Epoch 43/100\n",
      "5/5 [==============================] - 2s 435ms/step - loss: 0.0030 - accuracy: 1.0000 - val_loss: 0.8466 - val_accuracy: 0.8060\n",
      "Epoch 44/100\n",
      "5/5 [==============================] - 2s 423ms/step - loss: 0.0029 - accuracy: 1.0000 - val_loss: 0.8469 - val_accuracy: 0.8060\n",
      "Epoch 45/100\n",
      "5/5 [==============================] - 2s 418ms/step - loss: 0.0028 - accuracy: 1.0000 - val_loss: 0.8489 - val_accuracy: 0.8060\n",
      "Epoch 46/100\n",
      "5/5 [==============================] - 2s 424ms/step - loss: 0.0028 - accuracy: 1.0000 - val_loss: 0.8502 - val_accuracy: 0.8060\n",
      "Epoch 47/100\n",
      "5/5 [==============================] - 2s 416ms/step - loss: 0.0027 - accuracy: 1.0000 - val_loss: 0.8528 - val_accuracy: 0.8060\n",
      "Epoch 48/100\n",
      "5/5 [==============================] - 2s 408ms/step - loss: 0.0026 - accuracy: 1.0000 - val_loss: 0.8555 - val_accuracy: 0.8060\n",
      "Epoch 49/100\n",
      "5/5 [==============================] - 2s 419ms/step - loss: 0.0025 - accuracy: 1.0000 - val_loss: 0.8576 - val_accuracy: 0.8060\n",
      "Epoch 50/100\n",
      "5/5 [==============================] - 2s 414ms/step - loss: 0.0024 - accuracy: 1.0000 - val_loss: 0.8596 - val_accuracy: 0.8060\n",
      "Epoch 51/100\n",
      "5/5 [==============================] - 2s 408ms/step - loss: 0.0023 - accuracy: 1.0000 - val_loss: 0.8621 - val_accuracy: 0.8060\n",
      "Epoch 52/100\n",
      "5/5 [==============================] - 2s 430ms/step - loss: 0.0023 - accuracy: 1.0000 - val_loss: 0.8632 - val_accuracy: 0.8060\n",
      "Epoch 53/100\n",
      "5/5 [==============================] - 2s 424ms/step - loss: 0.0022 - accuracy: 1.0000 - val_loss: 0.8646 - val_accuracy: 0.8060\n",
      "Epoch 54/100\n",
      "5/5 [==============================] - 2s 406ms/step - loss: 0.0022 - accuracy: 1.0000 - val_loss: 0.8657 - val_accuracy: 0.8060\n",
      "Epoch 55/100\n",
      "5/5 [==============================] - 2s 403ms/step - loss: 0.0021 - accuracy: 1.0000 - val_loss: 0.8672 - val_accuracy: 0.8060\n",
      "Epoch 56/100\n",
      "5/5 [==============================] - 2s 408ms/step - loss: 0.0020 - accuracy: 1.0000 - val_loss: 0.8684 - val_accuracy: 0.8060\n",
      "Epoch 57/100\n",
      "5/5 [==============================] - 2s 435ms/step - loss: 0.0020 - accuracy: 1.0000 - val_loss: 0.8694 - val_accuracy: 0.8060\n",
      "Epoch 58/100\n",
      "5/5 [==============================] - 2s 419ms/step - loss: 0.0019 - accuracy: 1.0000 - val_loss: 0.8704 - val_accuracy: 0.8060\n"
     ]
    },
    {
     "name": "stdout",
     "output_type": "stream",
     "text": [
      "Epoch 59/100\n",
      "5/5 [==============================] - 2s 411ms/step - loss: 0.0019 - accuracy: 1.0000 - val_loss: 0.8717 - val_accuracy: 0.8060\n",
      "Epoch 60/100\n",
      "5/5 [==============================] - 2s 420ms/step - loss: 0.0018 - accuracy: 1.0000 - val_loss: 0.8739 - val_accuracy: 0.8060\n",
      "Epoch 61/100\n",
      "5/5 [==============================] - 2s 419ms/step - loss: 0.0018 - accuracy: 1.0000 - val_loss: 0.8755 - val_accuracy: 0.8060\n",
      "Epoch 62/100\n",
      "5/5 [==============================] - 2s 441ms/step - loss: 0.0017 - accuracy: 1.0000 - val_loss: 0.8774 - val_accuracy: 0.8209\n",
      "Epoch 63/100\n",
      "5/5 [==============================] - 2s 392ms/step - loss: 0.0017 - accuracy: 1.0000 - val_loss: 0.8791 - val_accuracy: 0.8209\n",
      "Epoch 64/100\n",
      "5/5 [==============================] - 2s 407ms/step - loss: 0.0016 - accuracy: 1.0000 - val_loss: 0.8807 - val_accuracy: 0.8060\n",
      "Epoch 65/100\n",
      "5/5 [==============================] - 2s 423ms/step - loss: 0.0016 - accuracy: 1.0000 - val_loss: 0.8820 - val_accuracy: 0.8060\n",
      "Epoch 66/100\n",
      "5/5 [==============================] - 2s 401ms/step - loss: 0.0016 - accuracy: 1.0000 - val_loss: 0.8835 - val_accuracy: 0.8060\n",
      "Epoch 67/100\n",
      "5/5 [==============================] - 2s 419ms/step - loss: 0.0015 - accuracy: 1.0000 - val_loss: 0.8852 - val_accuracy: 0.8060\n",
      "Epoch 68/100\n",
      "5/5 [==============================] - 2s 423ms/step - loss: 0.0015 - accuracy: 1.0000 - val_loss: 0.8864 - val_accuracy: 0.8060\n",
      "Epoch 69/100\n",
      "5/5 [==============================] - 2s 417ms/step - loss: 0.0014 - accuracy: 1.0000 - val_loss: 0.8873 - val_accuracy: 0.8060\n",
      "Epoch 70/100\n",
      "5/5 [==============================] - 2s 402ms/step - loss: 0.0014 - accuracy: 1.0000 - val_loss: 0.8885 - val_accuracy: 0.8060\n",
      "Epoch 71/100\n",
      "5/5 [==============================] - 2s 400ms/step - loss: 0.0014 - accuracy: 1.0000 - val_loss: 0.8903 - val_accuracy: 0.8060\n",
      "Epoch 72/100\n",
      "5/5 [==============================] - 2s 419ms/step - loss: 0.0014 - accuracy: 1.0000 - val_loss: 0.8913 - val_accuracy: 0.8060\n",
      "Epoch 73/100\n",
      "5/5 [==============================] - 2s 420ms/step - loss: 0.0013 - accuracy: 1.0000 - val_loss: 0.8932 - val_accuracy: 0.8060\n",
      "Epoch 74/100\n",
      "5/5 [==============================] - 2s 407ms/step - loss: 0.0013 - accuracy: 1.0000 - val_loss: 0.8931 - val_accuracy: 0.8209\n",
      "Epoch 75/100\n",
      "5/5 [==============================] - 2s 407ms/step - loss: 0.0013 - accuracy: 1.0000 - val_loss: 0.8940 - val_accuracy: 0.8209\n",
      "Epoch 76/100\n",
      "5/5 [==============================] - 2s 420ms/step - loss: 0.0012 - accuracy: 1.0000 - val_loss: 0.8951 - val_accuracy: 0.8209\n",
      "Epoch 77/100\n",
      "5/5 [==============================] - 2s 423ms/step - loss: 0.0012 - accuracy: 1.0000 - val_loss: 0.8963 - val_accuracy: 0.8209\n",
      "Epoch 78/100\n",
      "5/5 [==============================] - 2s 400ms/step - loss: 0.0012 - accuracy: 1.0000 - val_loss: 0.8978 - val_accuracy: 0.8060\n",
      "Epoch 79/100\n",
      "5/5 [==============================] - 2s 413ms/step - loss: 0.0012 - accuracy: 1.0000 - val_loss: 0.8991 - val_accuracy: 0.8209\n",
      "Epoch 80/100\n",
      "5/5 [==============================] - 2s 407ms/step - loss: 0.0011 - accuracy: 1.0000 - val_loss: 0.9008 - val_accuracy: 0.8209\n",
      "Epoch 81/100\n",
      "5/5 [==============================] - 2s 398ms/step - loss: 0.0011 - accuracy: 1.0000 - val_loss: 0.9026 - val_accuracy: 0.8209\n",
      "Epoch 82/100\n",
      "5/5 [==============================] - 2s 416ms/step - loss: 0.0011 - accuracy: 1.0000 - val_loss: 0.9035 - val_accuracy: 0.8209\n",
      "Epoch 83/100\n",
      "5/5 [==============================] - 2s 422ms/step - loss: 0.0011 - accuracy: 1.0000 - val_loss: 0.9046 - val_accuracy: 0.8209\n",
      "Epoch 84/100\n",
      "5/5 [==============================] - 2s 411ms/step - loss: 0.0010 - accuracy: 1.0000 - val_loss: 0.9057 - val_accuracy: 0.8060\n",
      "Epoch 85/100\n",
      "5/5 [==============================] - 2s 420ms/step - loss: 0.0010 - accuracy: 1.0000 - val_loss: 0.9063 - val_accuracy: 0.8060\n",
      "Epoch 86/100\n",
      "5/5 [==============================] - 2s 408ms/step - loss: 0.0010 - accuracy: 1.0000 - val_loss: 0.9075 - val_accuracy: 0.8060\n",
      "Epoch 87/100\n",
      "5/5 [==============================] - 2s 405ms/step - loss: 9.8493e-04 - accuracy: 1.0000 - val_loss: 0.9091 - val_accuracy: 0.8060\n",
      "Epoch 88/100\n",
      "5/5 [==============================] - 2s 416ms/step - loss: 9.6547e-04 - accuracy: 1.0000 - val_loss: 0.9105 - val_accuracy: 0.8209\n",
      "Epoch 89/100\n",
      "5/5 [==============================] - 2s 422ms/step - loss: 9.5035e-04 - accuracy: 1.0000 - val_loss: 0.9117 - val_accuracy: 0.8209\n",
      "Epoch 90/100\n",
      "5/5 [==============================] - 2s 428ms/step - loss: 9.2949e-04 - accuracy: 1.0000 - val_loss: 0.9128 - val_accuracy: 0.8209\n",
      "Epoch 91/100\n",
      "5/5 [==============================] - 2s 425ms/step - loss: 9.1513e-04 - accuracy: 1.0000 - val_loss: 0.9137 - val_accuracy: 0.8209\n",
      "Epoch 92/100\n",
      "5/5 [==============================] - 2s 410ms/step - loss: 8.9874e-04 - accuracy: 1.0000 - val_loss: 0.9148 - val_accuracy: 0.8209\n",
      "Epoch 93/100\n",
      "5/5 [==============================] - 2s 401ms/step - loss: 8.8264e-04 - accuracy: 1.0000 - val_loss: 0.9165 - val_accuracy: 0.8209\n",
      "Epoch 94/100\n",
      "5/5 [==============================] - 2s 404ms/step - loss: 8.6508e-04 - accuracy: 1.0000 - val_loss: 0.9176 - val_accuracy: 0.8209\n",
      "Epoch 95/100\n",
      "5/5 [==============================] - 2s 416ms/step - loss: 8.5013e-04 - accuracy: 1.0000 - val_loss: 0.9188 - val_accuracy: 0.8209\n",
      "Epoch 96/100\n",
      "5/5 [==============================] - 2s 409ms/step - loss: 8.3617e-04 - accuracy: 1.0000 - val_loss: 0.9194 - val_accuracy: 0.8209\n",
      "Epoch 97/100\n",
      "5/5 [==============================] - 2s 418ms/step - loss: 8.2107e-04 - accuracy: 1.0000 - val_loss: 0.9206 - val_accuracy: 0.8209\n",
      "Epoch 98/100\n",
      "5/5 [==============================] - 2s 417ms/step - loss: 8.0758e-04 - accuracy: 1.0000 - val_loss: 0.9218 - val_accuracy: 0.8209\n",
      "Epoch 99/100\n",
      "5/5 [==============================] - 2s 416ms/step - loss: 7.9307e-04 - accuracy: 1.0000 - val_loss: 0.9231 - val_accuracy: 0.8209\n",
      "Epoch 100/100\n",
      "5/5 [==============================] - 2s 411ms/step - loss: 7.7983e-04 - accuracy: 1.0000 - val_loss: 0.9233 - val_accuracy: 0.8209\n"
     ]
    },
    {
     "data": {
      "text/plain": [
       "<keras.callbacks.History at 0x2a6d6eabb80>"
      ]
     },
     "execution_count": 24,
     "metadata": {},
     "output_type": "execute_result"
    }
   ],
   "source": [
    "model.fit(train, y_train, epochs=100, validation_data=(X_valid, y_valid))"
   ]
  },
  {
   "cell_type": "code",
   "execution_count": 25,
   "id": "494768fe",
   "metadata": {},
   "outputs": [],
   "source": [
    "model.compile(loss='categorical_crossentropy', optimizer='adam', metrics=['accuracy'])"
   ]
  },
  {
   "cell_type": "code",
   "execution_count": 26,
   "id": "b8d52fec",
   "metadata": {},
   "outputs": [
    {
     "name": "stdout",
     "output_type": "stream",
     "text": [
      "Done!\n"
     ]
    }
   ],
   "source": [
    "count = 0\n",
    "videoFile = \"Accident-1.mp4\"\n",
    "cap = cv2.VideoCapture(videoFile)\n",
    "frameRate = cap.get(5) #frame rate\n",
    "x=1\n",
    "while(cap.isOpened()):\n",
    "    frameId = cap.get(1) #current frame number\n",
    "    ret, frame = cap.read()\n",
    "    if (ret != True):\n",
    "        break\n",
    "    if (frameId % math.floor(frameRate) == 0):\n",
    "        filename =\"test%d.jpg\" % count;count+=1\n",
    "        cv2.imwrite(filename, frame)\n",
    "cap.release()\n",
    "print (\"Done!\")"
   ]
  },
  {
   "cell_type": "code",
   "execution_count": 27,
   "id": "1cf0f0cd",
   "metadata": {},
   "outputs": [],
   "source": [
    "test = pd.read_csv('test.csv')"
   ]
  },
  {
   "cell_type": "code",
   "execution_count": 28,
   "id": "9047ac11",
   "metadata": {},
   "outputs": [],
   "source": [
    "test_image = []\n",
    "for img_name in test.Image_ID:\n",
    "    img = plt.imread('' + img_name)\n",
    "    test_image.append(img)\n",
    "test_img = np.array(test_image)"
   ]
  },
  {
   "cell_type": "code",
   "execution_count": 29,
   "id": "f32558f2",
   "metadata": {},
   "outputs": [],
   "source": [
    "test_image = []\n",
    "for i in range(0,test_img.shape[0]):\n",
    "    a = resize(test_img[i], preserve_range=True, output_shape=(224,224)).astype(int)\n",
    "    test_image.append(a)\n",
    "test_image = np.array(test_image)"
   ]
  },
  {
   "cell_type": "code",
   "execution_count": 30,
   "id": "ff1260b5",
   "metadata": {},
   "outputs": [
    {
     "name": "stdout",
     "output_type": "stream",
     "text": [
      "1/1 [==============================] - 1s 735ms/step\n"
     ]
    },
    {
     "data": {
      "text/plain": [
       "(9, 7, 7, 512)"
      ]
     },
     "execution_count": 30,
     "metadata": {},
     "output_type": "execute_result"
    }
   ],
   "source": [
    "# preprocessing the images\n",
    "test_image = preprocess_input(test_image, data_format=None)\n",
    "\n",
    "# extracting features from the images using pretrained model\n",
    "test_image = base_model.predict(test_image)\n",
    "test_image.shape"
   ]
  },
  {
   "cell_type": "code",
   "execution_count": 31,
   "id": "b9f69282",
   "metadata": {},
   "outputs": [],
   "source": [
    "test_image = test_image.reshape(9, 7*7*512)\n",
    "\n",
    "# zero centered images\n",
    "test_image = test_image/test_image.max()"
   ]
  },
  {
   "cell_type": "code",
   "execution_count": 32,
   "id": "721c02ae",
   "metadata": {},
   "outputs": [
    {
     "name": "stdout",
     "output_type": "stream",
     "text": [
      "1/1 [==============================] - 0s 53ms/step\n"
     ]
    }
   ],
   "source": [
    "predictions = model.predict(test_image)"
   ]
  },
  {
   "cell_type": "code",
   "execution_count": 33,
   "id": "fb5b165b",
   "metadata": {},
   "outputs": [
    {
     "name": "stdout",
     "output_type": "stream",
     "text": [
      "[[5.2758037e-06 9.9999475e-01]\n",
      " [2.1072649e-04 9.9978930e-01]\n",
      " [2.4299647e-03 9.9756998e-01]\n",
      " [7.8440056e-04 9.9921560e-01]\n",
      " [2.0788605e-03 9.9792117e-01]\n",
      " [3.5611203e-01 6.4388800e-01]\n",
      " [7.3129815e-01 2.6870179e-01]\n",
      " [5.7778615e-01 4.2221382e-01]\n",
      " [8.1834179e-01 1.8165818e-01]]\n"
     ]
    }
   ],
   "source": [
    "print(predictions)"
   ]
  },
  {
   "cell_type": "code",
   "execution_count": 34,
   "id": "1f040ef0",
   "metadata": {
    "scrolled": true
   },
   "outputs": [
    {
     "name": "stdout",
     "output_type": "stream",
     "text": [
      "No Accident\n",
      "No Accident\n",
      "No Accident\n",
      "No Accident\n",
      "No Accident\n",
      "No Accident\n",
      "Accident\n",
      "Accident\n",
      "Accident\n"
     ]
    }
   ],
   "source": [
    "for i in range (0,9):\n",
    "    if predictions[i][0]<predictions[i][1]:\n",
    "        print(\"No Accident\")\n",
    "    else:\n",
    "        print(\"Accident\")"
   ]
  },
  {
   "cell_type": "code",
   "execution_count": 35,
   "id": "e66b91f0",
   "metadata": {},
   "outputs": [],
   "source": [
    "geoLoc = Nominatim(user_agent=\"GetLoc\")\n",
    "g = geocoder.ip('me')\n",
    "locname = geoLoc.reverse(g.latlng)\n",
    "dir_path ='C:/Users/hp/ACCIDENT-DETECTION-WITH-A-REPORTING-SYSTEM-main/Testing'\n",
    "account_sid = 'AC0bc8365428af16b409eedba4e6d73e1b'\n",
    "auth_token = '3380e6130d2d514a679da56e71461d6e'\n",
    "client = Client(account_sid, auth_token)"
   ]
  },
  {
   "cell_type": "code",
   "execution_count": 40,
   "id": "80b3e4f1",
   "metadata": {},
   "outputs": [],
   "source": [
    "cap = cv2.VideoCapture('C:/Users/hp/ACCIDENT-DETECTION-WITH-A-REPORTING-SYSTEM-main/Accident-1.mp4')\n",
    "i=0\n",
    "flag=0\n",
    "while(True):\n",
    "    ret,frame=cap.read()\n",
    "    if ret==True:\n",
    "        if predictions[int(i/15)%9][0]<predictions[int(i/15)%9][1]:\n",
    "            predict=\"No Accident\"\n",
    "        else:\n",
    "            predict=\"Accident\"\n",
    "            flag=1\n",
    "        font = cv2.FONT_HERSHEY_SIMPLEX\n",
    "        cv2.putText(frame,\n",
    "                predict,\n",
    "                (50, 50),\n",
    "                font, 1,\n",
    "                (0, 255, 255),\n",
    "                3,\n",
    "                cv2.LINE_4)\n",
    "        cv2.imshow('Frame', frame)\n",
    "        i=i+1\n",
    "        if cv2.waitKey(1) & 0xFF == ord('q'):\n",
    "            break\n",
    "    else:\n",
    "        break\n",
    "if flag==1:\n",
    "    client.messages.create(\n",
    "                 body=\"Accident detected in \"+locname.address,\n",
    "                 from_= '+15674234628',\n",
    "                 to= '+917730842713')\n",
    "\n",
    "# release the cap object\n",
    "cap.release()\n",
    "# close all windows\n",
    "cv2.destroyAllWindows()\n"
   ]
  }
 ],
 "metadata": {
  "kernelspec": {
   "display_name": "Python 3 (ipykernel)",
   "language": "python",
   "name": "python3"
  },
  "language_info": {
   "codemirror_mode": {
    "name": "ipython",
    "version": 3
   },
   "file_extension": ".py",
   "mimetype": "text/x-python",
   "name": "python",
   "nbconvert_exporter": "python",
   "pygments_lexer": "ipython3",
   "version": "3.11.5"
  }
 },
 "nbformat": 4,
 "nbformat_minor": 5
}
